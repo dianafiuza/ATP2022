{
 "cells": [
  {
   "cell_type": "markdown",
   "id": "1e545158",
   "metadata": {},
   "source": [
    "# Aula Prática 8 (guião)\n",
    "### Semana de 7 de Novembro a 11 de Novembro de 2022\n",
    "### José Carlos Ramalho e Luís Cunha\n",
    "### Sinopsis:\n",
    "Consolidação e aferição de tudo o que foi feito até ao momento. "
   ]
  },
  {
   "cell_type": "markdown",
   "id": "9b9b5140-2b81-435e-9fc0-324437a7b453",
   "metadata": {},
   "source": [
    "### Assunto: Frações\n",
    "Vamos pensar num modelo: o que é uma fração estruturalmente?"
   ]
  },
  {
   "cell_type": "code",
   "execution_count": 113,
   "id": "5a6da5eb",
   "metadata": {},
   "outputs": [],
   "source": [
    "# Modelo duma fração\n",
    "f1 = (1,2)\n",
    "# Modelo duma lista de frações~\n",
    "fracoes = [(1,2),(2,3),(5,4)]"
   ]
  },
  {
   "cell_type": "markdown",
   "id": "d477052b-e074-4a5d-ac12-85c2286a1e5f",
   "metadata": {},
   "source": [
    "### Construtor"
   ]
  },
  {
   "cell_type": "code",
   "execution_count": 114,
   "id": "33d1c7e9-22af-4473-9b21-3e7ce0fcf571",
   "metadata": {},
   "outputs": [
    {
     "name": "stdout",
     "output_type": "stream",
     "text": [
      "(1, 2)\n",
      "1/2 "
     ]
    }
   ],
   "source": [
    "def criarFracao(numerador, denominador):\n",
    "\n",
    "    return (numerador, denominador)\n",
    "f2 = criarFracao(1,2)\n",
    "print(f2)\n",
    "\n",
    "def verFracao(f):\n",
    "    #print(str(f[0])+'/'+str(f[1]),end=' ')\n",
    "    #print(str(f[0]),'/',str(f[1]),sep='',end=' ')\n",
    "    print(f'{f[0]}/{f[1]}',end=' ')\n",
    "    \n",
    "verFracao(f2)"
   ]
  },
  {
   "cell_type": "code",
   "execution_count": 115,
   "id": "fb1299c8",
   "metadata": {},
   "outputs": [
    {
     "name": "stdout",
     "output_type": "stream",
     "text": [
      "1/2 2/3 5/4 "
     ]
    }
   ],
   "source": [
    "def ver_lista_fracao(lista):\n",
    "    for f in lista:\n",
    "        verFracao(f)\n",
    "ver_lista_fracao(fracoes)"
   ]
  },
  {
   "cell_type": "code",
   "execution_count": 126,
   "id": "d46df3ff",
   "metadata": {},
   "outputs": [
    {
     "name": "stdout",
     "output_type": "stream",
     "text": [
      "2/3 "
     ]
    }
   ],
   "source": [
    "f1 = criarFracao(2,3)\n",
    "verFracao(f1)"
   ]
  },
  {
   "cell_type": "markdown",
   "id": "f7cd0ff1",
   "metadata": {},
   "source": [
    "### Simplificação de frações"
   ]
  },
  {
   "cell_type": "code",
   "execution_count": 124,
   "id": "41ef3083",
   "metadata": {},
   "outputs": [],
   "source": [
    "def mdc(a,b):\n",
    "    if a> b:\n",
    "        menor = b\n",
    "    else:\n",
    "        menor =a\n",
    "    n=1\n",
    "    while n <= menor:\n",
    "        if a% n == 0 and b % n== 0:\n",
    "            res = n\n",
    "        n=n+1\n",
    "    '''for n in range ( 1,menor+1):\n",
    "         if a% n == 0 and b %n ==0:\n",
    "            res = n\n",
    "    '''\n",
    "    \n",
    "\n",
    "    return res"
   ]
  },
  {
   "cell_type": "code",
   "execution_count": 1,
   "id": "f1664405",
   "metadata": {},
   "outputs": [
    {
     "name": "stdout",
     "output_type": "stream",
     "text": [
      "5\n"
     ]
    }
   ],
   "source": [
    "\n",
    "def mdcSub(a,b):\n",
    "    if a == b:\n",
    "        return a\n",
    "    if a > b:\n",
    "        return mdcSub(a-b, b)\n",
    "    else:\n",
    "        return mdcSub(a, b-a)\n",
    "\n",
    "print(mdcSub(25,30))"
   ]
  },
  {
   "cell_type": "code",
   "execution_count": 110,
   "id": "af8c4cd6",
   "metadata": {},
   "outputs": [],
   "source": [
    "def mdc(a,b):\n",
    "    if a % b == 0 :\n",
    "        return b\n",
    "    return mdc(b, a % b )"
   ]
  },
  {
   "cell_type": "code",
   "execution_count": 109,
   "id": "8b0fa08f",
   "metadata": {},
   "outputs": [
    {
     "name": "stdout",
     "output_type": "stream",
     "text": [
      "(1, 25)\n"
     ]
    }
   ],
   "source": [
    "def simplificarFracao(f):\n",
    "    res= mdc(f[0],f[1])\n",
    "    return criarFracao ( int(f[0]/res), int(f[1]/res))\n",
    "\n",
    "f3 = (40,1000)\n",
    "print(simplificarFracao(f3))\n",
    "    "
   ]
  },
  {
   "cell_type": "code",
   "execution_count": null,
   "id": "8821d031",
   "metadata": {},
   "outputs": [],
   "source": [
    "verFracao(simplificarFracao(criarFracao(21, 140)))"
   ]
  },
  {
   "cell_type": "markdown",
   "id": "d52f012f",
   "metadata": {},
   "source": [
    "## Operações sobre frações"
   ]
  },
  {
   "cell_type": "code",
   "execution_count": 127,
   "id": "96ba280b",
   "metadata": {},
   "outputs": [
    {
     "name": "stdout",
     "output_type": "stream",
     "text": [
      "29/21 "
     ]
    }
   ],
   "source": [
    "def somarFrac(f1, f2):\n",
    "    num1, denum1 = f1\n",
    "    num2, denum2 = f2\n",
    "    return (num1*denum2 + num2*denum1, denum1*denum2)\n",
    "\n",
    "f2 = criarFracao(5,7)\n",
    "verFracao(somarFrac(f1,f2))"
   ]
  },
  {
   "cell_type": "code",
   "execution_count": 128,
   "id": "a0198bce",
   "metadata": {},
   "outputs": [
    {
     "name": "stdout",
     "output_type": "stream",
     "text": [
      "[(6, 9), (6, 5), (3, 19), (3, 19), (7, 9), (5, 8), (4, 7), (8, 18), (4, 8), (6, 4), (9, 11), (7, 16), (5, 10), (2, 14), (9, 19), (2, 18), (5, 10), (1, 3), (9, 11)]\n",
      "[(2, 3), (5, 7), (125, 1000), (8, 12)]\n"
     ]
    }
   ],
   "source": [
    "listaFrac = [f1, f2, criarFracao(125,1000), (8,12)]\n",
    "listaFrac2 = []\n",
    "import random\n",
    "for i in range(1,20):\n",
    "    n = random.randrange(1, 10)\n",
    "    d = random.randrange(2, 20)\n",
    "    listaFrac2.append(criarFracao(n,d))\n",
    "print(listaFrac2)\n",
    "print(listaFrac)"
   ]
  },
  {
   "cell_type": "markdown",
   "id": "e83e4eae",
   "metadata": {},
   "source": [
    "### Soma uma lista de frações"
   ]
  },
  {
   "cell_type": "code",
   "execution_count": 131,
   "id": "402d83f0",
   "metadata": {},
   "outputs": [
    {
     "name": "stdout",
     "output_type": "stream",
     "text": [
      "(365, 168)\n",
      "(3769609, 351120)\n"
     ]
    }
   ],
   "source": [
    "def somarListaFrac(lista):\n",
    "    res = lista[0]\n",
    "    for f in lista[1:]:\n",
    "         res = simplificarFracao(somarFrac(res,f))\n",
    "    return res\n",
    "\n",
    "print(simplificarFracao(somarListaFrac(listaFrac)))\n",
    "print(simplificarFracao(somarListaFrac(listaFrac2)))"
   ]
  },
  {
   "cell_type": "markdown",
   "id": "a88929cc",
   "metadata": {},
   "source": [
    "### Multiplica 2 frações"
   ]
  },
  {
   "cell_type": "code",
   "execution_count": null,
   "id": "519c5358",
   "metadata": {},
   "outputs": [],
   "source": [
    "def multFrac(f1, f2):\n",
    "    # ???\n",
    "    return # ???"
   ]
  },
  {
   "cell_type": "markdown",
   "id": "fcd5b5d6",
   "metadata": {},
   "source": [
    "### Guardar uma lista de frações num ficheiro"
   ]
  },
  {
   "cell_type": "code",
   "execution_count": 2,
   "id": "2840f9b2",
   "metadata": {},
   "outputs": [],
   "source": [
    "def gravaListaFrac(fnome,lista):\n",
    "    file = open(fnome, \"w\")\n",
    "    for f in lista:\n",
    "        file.write(f[0]+ \"/\" + f[1] + \"\\n\")\n",
    "\n",
    "    file.close()\n",
    "    gravaListaFrac(\"fracoes.txt\", listaFrac2)"
   ]
  },
  {
   "cell_type": "markdown",
   "id": "0664fcdc",
   "metadata": {},
   "source": [
    "### Recuperar uma lista de frações dum ficheiro"
   ]
  },
  {
   "cell_type": "code",
   "execution_count": 3,
   "id": "82aece6e",
   "metadata": {},
   "outputs": [
    {
     "ename": "FileNotFoundError",
     "evalue": "[Errno 2] No such file or directory: 'fracoes.txt'",
     "output_type": "error",
     "traceback": [
      "\u001b[1;31m---------------------------------------------------------------------------\u001b[0m",
      "\u001b[1;31mFileNotFoundError\u001b[0m                         Traceback (most recent call last)",
      "Cell \u001b[1;32mIn [3], line 10\u001b[0m\n\u001b[0;32m      7\u001b[0m     file\u001b[39m.\u001b[39mclose()\n\u001b[0;32m      8\u001b[0m     \u001b[39mreturn\u001b[39;00m lista\n\u001b[1;32m---> 10\u001b[0m \u001b[39mprint\u001b[39m(carregaListaFrac(\u001b[39m\"\u001b[39m\u001b[39mfracoes.txt\u001b[39m\u001b[39m\"\u001b[39m))\n",
      "Cell \u001b[1;32mIn [3], line 3\u001b[0m, in \u001b[0;36mcarregaListaFrac\u001b[1;34m(fnome)\u001b[0m\n\u001b[0;32m      1\u001b[0m \u001b[39mdef\u001b[39;00m \u001b[39mcarregaListaFrac\u001b[39m(fnome):\n\u001b[0;32m      2\u001b[0m     lista \u001b[39m=\u001b[39m []\n\u001b[1;32m----> 3\u001b[0m     file \u001b[39m=\u001b[39m \u001b[39mopen\u001b[39;49m (fnome)\n\u001b[0;32m      4\u001b[0m     \u001b[39mfor\u001b[39;00m line \u001b[39min\u001b[39;00m file:\n\u001b[0;32m      5\u001b[0m         fracao \u001b[39m=\u001b[39m \u001b[39mtuple\u001b[39m(line\u001b[39m.\u001b[39msplit(\u001b[39m\"\u001b[39m\u001b[39m/\u001b[39m\u001b[39m\"\u001b[39m))\n",
      "\u001b[1;31mFileNotFoundError\u001b[0m: [Errno 2] No such file or directory: 'fracoes.txt'"
     ]
    }
   ],
   "source": [
    "def carregaListaFrac(fnome):\n",
    "    lista = []\n",
    "    file = open (fnome)\n",
    "    for line in file:\n",
    "        fracao = tuple(line.split(\"/\"))\n",
    "        fracao[1] = fracao[1].strip\n",
    "        fracao = (int(fracao[0]),(fracao[1]))\n",
    "    file.close()\n",
    "    return lista\n",
    "\n",
    "print(carregaListaFrac(\"fracoes.txt\"))"
   ]
  },
  {
   "cell_type": "markdown",
   "id": "4193a91b",
   "metadata": {},
   "source": [
    "### TPC8: Teste de aferição\n",
    "\n",
    "Resolva os problemas apresentados a seguir."
   ]
  },
  {
   "cell_type": "markdown",
   "id": "4e758271",
   "metadata": {},
   "source": [
    "### tpc1.a) Recebe duas strings, _s1_ e _s2_, e retorna o comprimento da substring inicial de _s1_ que não contem nenhum caráter de _s2_:"
   ]
  },
  {
   "cell_type": "code",
   "execution_count": 3,
   "id": "4ae7f5d0",
   "metadata": {},
   "outputs": [
    {
     "name": "stdout",
     "output_type": "stream",
     "text": [
      "8\n"
     ]
    }
   ],
   "source": [
    "def inicDiferente(s1, s2):\n",
    "    \n",
    "\n",
    "    x=list(s1.replace(\" \",\"\"))\n",
    "    y=list(s2.replace(\" \",\"\"))\n",
    "   \n",
    "    for i in y:\n",
    "        if i in x:\n",
    "            n=x.index(i)\n",
    "            x.pop(n)\n",
    "\n",
    "    tam=len(x)    \n",
    "    print(tam)    \n",
    "\n",
    "\n",
    " \n",
    "inicDiferente(\"Está um bom dia...\", \"Hoje é um dia alegre.\")\n",
    "\n"
   ]
  },
  {
   "cell_type": "markdown",
   "id": "28cb3dc4",
   "metadata": {},
   "source": [
    "### tpc1.b) Recebe um parâmetro _n_ e lê _n_ números inteiros; no fim retorna quantos dos números lidos são superiores à média dos números lidos:"
   ]
  },
  {
   "cell_type": "code",
   "execution_count": 6,
   "id": "4458c7bc",
   "metadata": {},
   "outputs": [
    {
     "name": "stdout",
     "output_type": "stream",
     "text": [
      "Vai ser criada uma lista com 5 elementos\n",
      " Estao  2 numeros acima da media\n"
     ]
    }
   ],
   "source": [
    "def acimaMedia(n):\n",
    "    soma=0\n",
    "    num=0\n",
    "    print(\"Vai ser criada uma lista com {} elementos\".format(n))\n",
    "    lista=[]\n",
    "    for i in range(n):\n",
    "        x=int(input(\"Digite um número\"))\n",
    "        lista.append(x)\n",
    "        soma=soma+x\n",
    "\n",
    "    media=int(soma/n)\n",
    "\n",
    "    for j in lista:\n",
    "        if j > media:\n",
    "            num+=1\n",
    "\n",
    "\n",
    "    return num\n",
    "\n",
    "\n",
    "print(\"Estao \", + acimaMedia(5), \"numeros acima da media\")"
   ]
  },
  {
   "cell_type": "markdown",
   "id": "e6db31d7",
   "metadata": {},
   "source": [
    "### tpc1.c) Faz o merge de duas listas ordenadas, retornando uma lista ordenada com os elementos das duas listas (__não podes usar nenhuma função de ordenação do Python__):"
   ]
  },
  {
   "cell_type": "code",
   "execution_count": 15,
   "id": "2b5ad344",
   "metadata": {},
   "outputs": [
    {
     "data": {
      "text/plain": [
       "[1, 2, 3, 4, 6, 7, 9, 12]"
      ]
     },
     "execution_count": 15,
     "metadata": {},
     "output_type": "execute_result"
    }
   ],
   "source": [
    "def merge(l1, l2):\n",
    "    listaord=[]\n",
    "    lista=[]\n",
    "    for i in l1:\n",
    "        lista.append(i)\n",
    "    for j in l2:   \n",
    "        lista.append(j) \n",
    "    n=len(lista)\n",
    "    while n>0:\n",
    "        min=lista[0]\n",
    "        for x in lista:\n",
    "            if x<min:\n",
    "                min=x\n",
    "        listaord.append(min)\n",
    "        p=lista.index(min)\n",
    "        lista.pop(p)\n",
    "      \n",
    "        n=n-1        \n",
    "     \n",
    "    return listaord\n",
    "\n",
    "\n",
    "\n",
    "merge([1,2,6,9], [3,4,7,12])           "
   ]
  },
  {
   "cell_type": "markdown",
   "id": "6698b337",
   "metadata": {},
   "source": [
    "### tpc1.d) Recebe o nome de dois ficheiros de texto, _f1_ e _f2_, e indica se são iguais (__True__) no seu conteúdo ou se são diferentes (__False__):"
   ]
  },
  {
   "cell_type": "code",
   "execution_count": 17,
   "id": "54cef309",
   "metadata": {},
   "outputs": [],
   "source": [
    "def figuais(f1, f2):\n",
    "    cond=False\n",
    "    lista1=[]\n",
    "    lista2=[]\n",
    "    file1=open(f1)\n",
    "    file2=open(f2)\n",
    "    for i in file1:\n",
    "        lista1.append(i)\n",
    "    for e in file2:\n",
    "        lista2.append(e)   \n",
    "\n",
    "    if file2==file1:\n",
    "        cond=True\n",
    "    else:\n",
    "        cond=False\n",
    "         \n",
    "    file1.close() \n",
    "    file2.close() \n",
    "    return cond   \n",
    "    \n"
   ]
  },
  {
   "cell_type": "markdown",
   "id": "7cd572fc",
   "metadata": {},
   "source": [
    "## Questão 2: Gestão de uma Cinemateca\n",
    "\n",
    "Analise as seguintes estruturas de dados que materializam o modelo de uma cinemateca:"
   ]
  },
  {
   "cell_type": "code",
   "execution_count": 13,
   "id": "76e9e621",
   "metadata": {},
   "outputs": [],
   "source": [
    "# Cinemateca = [Filme]\n",
    "# Pub = (Título, Ano, Elenco, Géneros)\n",
    "# Título = String\n",
    "# Ano = Int\n",
    "# Elenco = [Ator]\n",
    "# Ator = String\n",
    "# Géneros = [Género]\n",
    "# Género = String\n",
    "Filme1 = (\"Meet the Parents\", 2000, [\"Ben Stiller\",\"Robert De Niro\",\n",
    "      \"Blythe Danner\",\"Teri Polo\",\"Owen Wilson\"], [\"Comedy\", \"Drama\"])\n",
    "Filme2 = (\"Men of Honor\", 2000, [\"Robert De Niro\",\"Cuba Gooding, Jr.\",\n",
    "      \"Charlize Theron\"], [\"Biography\", \"Drama\", \"Thriller\"])\n",
    "Filme3 = (\"Analyze That\", 2002, [\"Robert De Niro\",\"Billy Crystal\",\n",
    "      \"Lisa Kudrow\"], [\"Comedy\"])\n",
    "CineUM = [Filme1, Filme2, Filme3]"
   ]
  },
  {
   "cell_type": "markdown",
   "id": "89afc758",
   "metadata": {},
   "source": [
    " e especifique funções que calculem o que se descreve a seguir:"
   ]
  },
  {
   "cell_type": "markdown",
   "id": "2156a0c8",
   "metadata": {},
   "source": [
    "### tpc2.a)  Devolve uma lista dos atores participantes nos filmes armazenados, ordenada alfabeticamente e sem repetições:"
   ]
  },
  {
   "cell_type": "code",
   "execution_count": 12,
   "id": "8a5a2a41",
   "metadata": {},
   "outputs": [],
   "source": [
    "def atores(cinemateca):\n",
    "    lista=[]\n",
    "    for i in range(len(cinemateca)):\n",
    "       for e in cinemateca[i][2]:\n",
    "            lista.append(e)\n",
    "\n",
    "    lista.sort()        \n",
    "    return lista   \n"
   ]
  },
  {
   "cell_type": "markdown",
   "id": "12f9126b",
   "metadata": {},
   "source": [
    "### tpc2.b)  Devolve uma lista de todos os títulos dos filmes, em ordem alfabética, e de um determinado género passado como argumento:"
   ]
  },
  {
   "cell_type": "code",
   "execution_count": 11,
   "id": "d9dfe30a",
   "metadata": {},
   "outputs": [],
   "source": [
    "def listarPorGenero(cinemateca, genero):\n",
    "    lista=[]\n",
    "    for i in range(len(cinemateca)):\n",
    "        for e in cinemateca[i][3]:\n",
    "            if e==genero:\n",
    "                lista.append(cinemateca[i][0])\n",
    "\n",
    "    lista.sort()        \n",
    "    return lista     \n",
    "                       "
   ]
  },
  {
   "cell_type": "markdown",
   "id": "1a0f760b",
   "metadata": {},
   "source": [
    "### tpc2.c)  Devolve o título do filme com o maior elenco:"
   ]
  },
  {
   "cell_type": "code",
   "execution_count": 10,
   "id": "a00c85e3",
   "metadata": {},
   "outputs": [],
   "source": [
    "def maiorElenco( cinemateca ):\n",
    "    max=0\n",
    "    for i in range(len(cinemateca)):\n",
    "        n=len(cinemateca[i][2])\n",
    "        if n>max:\n",
    "            max=n\n",
    "    for i in range(len(cinemateca)):    \n",
    "        if max==len(cinemateca[i][2]):\n",
    "            titulo=cinemateca[i][0]    \n",
    "\n",
    "    return titulo        \n",
    "                "
   ]
  },
  {
   "cell_type": "markdown",
   "id": "65061d0a",
   "metadata": {},
   "source": [
    "### tpc2.d)  Calcula a distribuição de filmes por Género:"
   ]
  },
  {
   "cell_type": "code",
   "execution_count": 7,
   "id": "dc1adabc",
   "metadata": {},
   "outputs": [],
   "source": [
    "def filmePorGenero( cinemateca ):\n",
    "    dici={}\n",
    "    for i in range(len(cinemateca)):\n",
    "        for e in cinemateca[i][3]:\n",
    "            if e not in dici:\n",
    "                dici[e]=1\n",
    "            else:\n",
    "                dici[e]+=1\n",
    "    return dici    "
   ]
  },
  {
   "cell_type": "markdown",
   "id": "de46a635",
   "metadata": {},
   "source": [
    "### tpc2.e)  Represente num gráfico de barras a distribuição calculada na alínea anterior (pode usar o material que entender das aulas):"
   ]
  },
  {
   "cell_type": "code",
   "execution_count": 20,
   "id": "4118730d",
   "metadata": {},
   "outputs": [
    {
     "data": {
      "image/png": "[encoded data removed]",
      "text/plain": [
       "<Figure size 640x480 with 1 Axes>"
      ]
     },
     "metadata": {},
     "output_type": "display_data"
    },
    {
     "name": "stdout",
     "output_type": "stream",
     "text": [
      "None\n"
     ]
    }
   ],
   "source": [
    "import matplotlib.pyplot as plt\n",
    "def grafico( CineUM):\n",
    "    dici=filmePorGenero(CineUM)   \n",
    "    x=dici.keys()  \n",
    "    y=dici.values()\n",
    "    plt.bar(x,y)\n",
    "    plt.xlabel(\"Género\")\n",
    "    plt.ylabel(\"Frequência\")\n",
    "    plt.title(\"Distribuição por Género\")\n",
    "    plt.show()\n",
    "    \n",
    "\n",
    "print(grafico(CineUM))    "
   ]
  }
 ],
 "metadata": {
  "kernelspec": {
   "display_name": "Python 3.10.8 64-bit (microsoft store)",
   "language": "python",
   "name": "python3"
  },
  "language_info": {
   "codemirror_mode": {
    "name": "ipython",
    "version": 3
   },
   "file_extension": ".py",
   "mimetype": "text/x-python",
   "name": "python",
   "nbconvert_exporter": "python",
   "pygments_lexer": "ipython3",
   "version": "3.10.8"
  },
  "vscode": {
   "interpreter": {
    "hash": "3b7e9cb8e453d6cda0fe8c8dd13f891a1f09162f0e7c66ffeae7751a7aecf00d"
   }
  }
 },
 "nbformat": 4,
 "nbformat_minor": 5
}
